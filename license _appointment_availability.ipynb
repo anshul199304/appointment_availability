{
 "cells": [
  {
   "cell_type": "code",
   "execution_count": 11,
   "metadata": {},
   "outputs": [],
   "source": [
    "import requests\n",
    "from bs4 import BeautifulSoup as bs\n",
    "from urllib.parse import urljoin\n",
    "from selenium import webdriver\n",
    "from webdriver_manager.chrome import ChromeDriverManager\n",
    "import pandas\n",
    "from selenium.webdriver.chrome.options import Options\n",
    "import beepy\n",
    "import time\n",
    "from datetime import datetime,timedelta"
   ]
  },
  {
   "cell_type": "code",
   "execution_count": 18,
   "metadata": {},
   "outputs": [],
   "source": [
    "def find_appointment_at_location(city = \"Camden\",hours_to_run_the_script = 8, max_possible_wait_days = 30):\n",
    "    \n",
    "    max_time = time.time() + hours_to_run_the_script*60*60\n",
    "    \n",
    "    while time.time() < max_time:\n",
    "        \n",
    "        options = Options()\n",
    "        options.headless = True\n",
    "        driver = webdriver.Chrome(options = options)\n",
    "        driver = webdriver.Chrome(options = options)\n",
    "        driver.get(\"https://telegov.njportal.com/njmvc/AppointmentWizard/17\")\n",
    "        a = driver.execute_script(\"return locationData\")\n",
    "        b = driver.execute_script(\"return timeData\")\n",
    "        c = driver.execute_script(\"return locationModel\")\n",
    "        \n",
    "        df_a = pandas.DataFrame.from_records(a)\n",
    "        df_b = pandas.DataFrame.from_records(b)\n",
    "        \n",
    "        df_b[[\"FirstOpenSlot\",\"Next Available\"]] = df_b['FirstOpenSlot'].str.split('<br/>', expand = True)\n",
    "        df_b[\"FirstOpenSlot\"] = df_b['FirstOpenSlot'].str.split(' ', expand = True)\n",
    "        df_b[[\"Dummy\",\"Next Available\"]] = df_b['Next Available'].str.split(': ', expand = True)\n",
    "        df_b.drop([\"Dummy\"],axis = 1, inplace = True)\n",
    "        \n",
    "        final_df = pandas.merge(left = df_b, right = df_a, how = 'left', left_on = 'LocationId', right_on = 'Id')\n",
    "        final_df.index = final_df[\"City\"]\n",
    "        final_df = final_df[[\"FirstOpenSlot\",\"Next Available\"]]\n",
    "        \n",
    "        if final_df.loc[city][\"Next Available\"]:\n",
    "            \n",
    "            latest_available_timeslot = datetime.strptime(final_df.loc[city][\"Next Available\"], '%m/%d/%Y %I:%M %p')\n",
    "            max_possible_acceptable_date = datetime.today() + timedelta(days = max_possible_wait_days)\n",
    "            min_possible_acceptable_date = datetime.today() + timedelta(days = max_possible_wait_days - 15)\n",
    "            \n",
    "        \n",
    "            if (latest_available_timeslot < max_possible_acceptable_date) and (latest_available_timeslot > min_possible_acceptable_date): \n",
    "                print(\"Appointment available\")\n",
    "                beepy.beep(sound = 'coin')\n",
    "                break\n",
    "            else:\n",
    "                print(\"Nothing Yet\",latest_available_timeslot,final_df.loc[city][\"FirstOpenSlot\"])\n",
    "                pass    \n",
    "        \n",
    "        else:\n",
    "            print(\"This center has no appointments\")\n",
    "            \n",
    "        time.sleep(5)\n",
    "        \n",
    "    return None"
   ]
  },
  {
   "cell_type": "code",
   "execution_count": null,
   "metadata": {},
   "outputs": [],
   "source": [
    "find_appointment_at_location(\"Bayonne\")"
   ]
  }
 ],
 "metadata": {
  "kernelspec": {
   "display_name": "Python 3",
   "language": "python",
   "name": "python3"
  }
 },
 "nbformat": 4,
 "nbformat_minor": 2
}
